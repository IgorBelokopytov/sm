{
 "cells": [
  {
   "cell_type": "markdown",
   "metadata": {},
   "source": [
    "<h2>Урок №1 / Домашняя работа</h2>\n",
    "<h4>Задание 0</h4>\n",
    "<p>\n",
    "Скачать и установить VS Code: ✔️ Выполнено\n",
    "</p>\n",
    "<h4>Задание 1</h4>\n",
    "<p>\n",
    "Зарегистрируйтесь на gitHub: ✔️ Выполнено\n",
    "</p>\n",
    "<h4>Задание 3</h4>\n",
    "<p>\n",
    "Создайте репозиторий: ✔️ Выполнено\n",
    "</p>\n",
    "<h4>Задание 4</h4>\n",
    "<p>\n",
    "Сделайте программу, которая запросит у человека его вес и выведет в консоль необходимый суточный объем воды\n",
    ": ✔️ Выполнено\n",
    "</p>"
   ]
  },
  {
   "cell_type": "code",
   "execution_count": 12,
   "metadata": {},
   "outputs": [
    {
     "name": "stdout",
     "output_type": "stream",
     "text": [
      "Если вы весите 94 кг, то пейте 28.2 литра воды в сутки\n"
     ]
    }
   ],
   "source": [
    "text_from_user = input(\"Укажите свой вес в кг чтобы расчитать необходимый суточынй объем воды:\")\n",
    "whater_vol = ((float(text_from_user) * 30) / 100)\n",
    "print (\"Если вы весите\", text_from_user, \"кг, то пейте\", whater_vol, \"литра воды в сутки\")"
   ]
  },
  {
   "cell_type": "markdown",
   "metadata": {},
   "source": [
    "<h4>Задание 4</h4>\n",
    "<p>\n",
    "загрузите код вашей программы в данный репозиторий и пришлите мне ссылочку ;)\n",
    "<a href=\"https://github.com/IgorBelokopytov/sm\" target=\"_blank\">✔️ Выполнено</a>\n",
    "</p>\n",
    "\n"
   ]
  },
  {
   "cell_type": "markdown",
   "metadata": {},
   "source": [
    "<h4>Задание по желанию</h4>\n",
    "<p>\n",
    "Вычеслить НДС из суммы с округлением до десятых ✔️ Выполнено\n",
    "</p>"
   ]
  },
  {
   "cell_type": "code",
   "execution_count": 13,
   "metadata": {},
   "outputs": [
    {
     "name": "stdout",
     "output_type": "stream",
     "text": [
      "Ваша сумма 1000 в том числе НДС 166.67\n"
     ]
    }
   ],
   "source": [
    "text_from_user = input(\"Вычеслить НДС из суммы:\")\n",
    "nds = round(((float(text_from_user) / 120) * 20),2)\n",
    "print (\"Ваша сумма\", text_from_user, \n",
    "\"в том числе НДС\", nds)"
   ]
  }
 ],
 "metadata": {
  "interpreter": {
   "hash": "aee8b7b246df8f9039afb4144a1f6fd8d2ca17a180786b69acc140d282b71a49"
  },
  "kernelspec": {
   "display_name": "Python 3.10.4 64-bit",
   "language": "python",
   "name": "python3"
  },
  "language_info": {
   "codemirror_mode": {
    "name": "ipython",
    "version": 3
   },
   "file_extension": ".py",
   "mimetype": "text/x-python",
   "name": "python",
   "nbconvert_exporter": "python",
   "pygments_lexer": "ipython3",
   "version": "3.10.4"
  },
  "orig_nbformat": 4
 },
 "nbformat": 4,
 "nbformat_minor": 2
}
